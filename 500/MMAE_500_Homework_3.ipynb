{
  "nbformat": 4,
  "nbformat_minor": 0,
  "metadata": {
    "kernelspec": {
      "display_name": "Python 3",
      "language": "python",
      "name": "python3"
    },
    "language_info": {
      "codemirror_mode": {
        "name": "ipython",
        "version": 3
      },
      "file_extension": ".py",
      "mimetype": "text/x-python",
      "name": "python",
      "nbconvert_exporter": "python",
      "pygments_lexer": "ipython3",
      "version": "3.7.10"
    },
    "colab": {
      "provenance": []
    }
  },
  "cells": [
    {
      "cell_type": "markdown",
      "source": [
        "# MMAE 500 - Homework 3\n",
        "# Jay Steinberg\n",
        "\n",
        "Some code snippets were taken from the class examples and repurposed here"
      ],
      "metadata": {
        "id": "71LkGLmrf99i"
      }
    },
    {
      "cell_type": "code",
      "source": [
        "import numpy as np\n",
        "import scipy as sp\n",
        "from numpy import linalg as la\n",
        "from scipy.linalg import qr\n",
        "from matplotlib import cm\n",
        "from matplotlib import pyplot as plt\n",
        "from scipy import io"
      ],
      "metadata": {
        "id": "iKoWV1tShYdS"
      },
      "execution_count": null,
      "outputs": []
    },
    {
      "cell_type": "markdown",
      "source": [
        "# Q1: QR Pivoting"
      ],
      "metadata": {
        "id": "U5TT_49JnBpU"
      }
    },
    {
      "cell_type": "code",
      "metadata": {
        "id": "p-rkk_D8KfpC"
      },
      "source": [
        "# Original generation of X from given code in hw3Q1.ipynb\n",
        "\n",
        "y = np.linspace(-2,2,401) # spatial coordinate\n",
        "Ny = np.size(y)\n",
        "\n",
        "amp1 = 1\n",
        "y01 = 0.5\n",
        "sigmay1 = 0.6\n",
        "\n",
        "amp2 = 1.2\n",
        "y02 = -0.5\n",
        "sigmay2 = 0.3\n",
        "\n",
        "dt = 0.1\n",
        "Nt = 101\n",
        "tend = dt*(Nt-1)\n",
        "t = np.linspace(0,tend,Nt) # time\n",
        "\n",
        "omega1 = 1.3\n",
        "omega2 = 4.1\n",
        "\n",
        "v1 = amp1*np.exp(-((y-y01)**2)/(2*sigmay1**2))\n",
        "v2 = amp2*np.exp(-((y-y02)**2)/(2*sigmay2**2))\n",
        "\n",
        "X = np.zeros([Ny,Nt],dtype=complex)\n",
        "for tt in range(Nt):\n",
        "    X[:,tt] = v1*np.cos(omega1*t[tt])+v2*np.cos(omega2*t[tt]) "
      ],
      "execution_count": null,
      "outputs": []
    },
    {
      "cell_type": "code",
      "metadata": {
        "id": "x6ZpjqyaKfpG",
        "colab": {
          "base_uri": "https://localhost:8080/",
          "height": 1000
        },
        "outputId": "41e3327e-b126-4038-a155-36e6b8b52281"
      },
      "source": [
        "# Use QR pivoting to find optimal sensing locations\n",
        "\n",
        "print('Original X:\\n', X, '\\n')\n",
        "\n",
        "r=2\n",
        "U,Sigma,VT = la.svd(X,full_matrices=0)\n",
        "Ur = U[:,:r] \n",
        "\n",
        "Q,R,P = qr(np.transpose(Ur),pivoting=True)\n",
        "optimalSampleLocations = P[:r] \n",
        "\n",
        "print('Optimal Sampling Locations:\\n', optimalSampleLocations, '\\n')\n",
        "\n",
        "# Do reconstruction with these measurements\n",
        "OptimalMeasurements = X[optimalSampleLocations]\n",
        "cOpt = la.pinv(Ur[optimalSampleLocations,:])@OptimalMeasurements\n",
        "#print(cOpt)\n",
        "\n",
        "# Reconstruct full state from optimal measurements\n",
        "XEstimatedOpt = Ur@cOpt\n",
        "XEstError=XEstimatedOpt-X\n",
        "print('Reconstructed X from QR Pivot:\\n', XEstimatedOpt, '\\n')\n",
        "print('Error, reconstruction minus original:\\n', XEstError)\n",
        "\n",
        "figs, axs = plt.subplots(3,1, figsize=(6,6))\n",
        "figs.tight_layout()\n",
        "nlevels = 50\n",
        "axs[0].contourf(X,nlevels,cmap=\"RdBu_r\", label='Original X')\n",
        "axs[0].set_title(\"Original X\")\n",
        "axs[0].plot(X[optimalSampleLocations],'kx')\n",
        "axs[1].contourf(XEstimatedOpt,nlevels,cmap=\"RdBu_r\", label=\"Reconstructed\")\n",
        "axs[1].set_title(\"Reconstruction\")\n",
        "axs[2].contourf(XEstError,nlevels,cmap=\"RdBu_r\", label=\"Error\")\n",
        "axs[2].set_title(\"Error\")"
      ],
      "execution_count": null,
      "outputs": [
        {
          "output_type": "stream",
          "name": "stdout",
          "text": [
            "Original X:\n",
            " [[0.00017433+0.j 0.00017252+0.j 0.0001672 +0.j ... 0.00016377+0.j\n",
            "  0.00015775+0.j 0.00014972+0.j]\n",
            " [0.00018733+0.j 0.00018535+0.j 0.00017953+0.j ... 0.00017514+0.j\n",
            "  0.0001686 +0.j 0.00015998+0.j]\n",
            " [0.00020128+0.j 0.00019912+0.j 0.00019275+0.j ... 0.00018721+0.j\n",
            "  0.0001801 +0.j 0.00017085+0.j]\n",
            " ...\n",
            " [0.04772871+0.j 0.04732597+0.j 0.04612454+0.j ... 0.04701107+0.j\n",
            "  0.04554548+0.j 0.04331126+0.j]\n",
            " [0.04579995+0.j 0.04541349+0.j 0.04426062+0.j ... 0.04511132+0.j\n",
            "  0.04370495+0.j 0.04156102+0.j]\n",
            " [0.04393693+0.j 0.04356619+0.j 0.04246021+0.j ... 0.04327631+0.j\n",
            "  0.04192715+0.j 0.03987043+0.j]] \n",
            "\n",
            "Optimal Sampling Locations:\n",
            " [149 250] \n",
            "\n",
            "Reconstructed X from QR Pivot:\n",
            " [[0.00017433+0.j 0.00017252+0.j 0.0001672 +0.j ... 0.00016377+0.j\n",
            "  0.00015775+0.j 0.00014972+0.j]\n",
            " [0.00018733+0.j 0.00018535+0.j 0.00017953+0.j ... 0.00017514+0.j\n",
            "  0.0001686 +0.j 0.00015998+0.j]\n",
            " [0.00020128+0.j 0.00019912+0.j 0.00019275+0.j ... 0.00018721+0.j\n",
            "  0.0001801 +0.j 0.00017085+0.j]\n",
            " ...\n",
            " [0.04772871+0.j 0.04732597+0.j 0.04612454+0.j ... 0.04701107+0.j\n",
            "  0.04554548+0.j 0.04331126+0.j]\n",
            " [0.04579995+0.j 0.04541349+0.j 0.04426062+0.j ... 0.04511132+0.j\n",
            "  0.04370495+0.j 0.04156102+0.j]\n",
            " [0.04393693+0.j 0.04356619+0.j 0.04246021+0.j ... 0.04327631+0.j\n",
            "  0.04192715+0.j 0.03987043+0.j]] \n",
            "\n",
            "Error, reconstruction minus original:\n",
            " [[ 8.82483648e-15+0.j  8.52228986e-15+0.j  7.65780126e-15+0.j ...\n",
            "   3.25705175e-15+0.j  2.53134102e-15+0.j  2.20461670e-15+0.j]\n",
            " [ 1.46828079e-16+0.j  1.53902498e-16+0.j  1.73716293e-16+0.j ...\n",
            "   3.43583668e-16+0.j  3.55753838e-16+0.j  3.45697863e-16+0.j]\n",
            " [-2.71050543e-20+0.j -2.71050543e-20+0.j -2.71050543e-20+0.j ...\n",
            "   0.00000000e+00+0.j  2.71050543e-20+0.j  5.42101086e-20+0.j]\n",
            " ...\n",
            " [ 0.00000000e+00+0.j -1.38777878e-17+0.j -6.93889390e-18+0.j ...\n",
            "   6.93889390e-18+0.j  1.38777878e-17+0.j  6.93889390e-18+0.j]\n",
            " [-6.93889390e-18+0.j -1.38777878e-17+0.j -1.38777878e-17+0.j ...\n",
            "   6.93889390e-18+0.j  1.38777878e-17+0.j  2.08166817e-17+0.j]\n",
            " [ 0.00000000e+00+0.j  0.00000000e+00+0.j -6.93889390e-18+0.j ...\n",
            "   6.93889390e-18+0.j  1.38777878e-17+0.j  6.93889390e-18+0.j]]\n"
          ]
        },
        {
          "output_type": "stream",
          "name": "stderr",
          "text": [
            "/usr/local/lib/python3.9/dist-packages/matplotlib/contour.py:1454: ComplexWarning: Casting complex values to real discards the imaginary part\n",
            "  self.zmax = float(z.max())\n",
            "/usr/local/lib/python3.9/dist-packages/matplotlib/contour.py:1455: ComplexWarning: Casting complex values to real discards the imaginary part\n",
            "  self.zmin = float(z.min())\n",
            "/usr/local/lib/python3.9/dist-packages/numpy/ma/core.py:2826: ComplexWarning: Casting complex values to real discards the imaginary part\n",
            "  _data = np.array(data, dtype=dtype, copy=copy,\n",
            "<ipython-input-21-1d94487c655a>:25: UserWarning: The following kwargs were not used by contour: 'label'\n",
            "  axs[0].contourf(X,nlevels,cmap=\"RdBu_r\", label='Original X')\n",
            "/usr/local/lib/python3.9/dist-packages/matplotlib/cbook/__init__.py:1335: ComplexWarning: Casting complex values to real discards the imaginary part\n",
            "  return np.asarray(x, float)\n",
            "<ipython-input-21-1d94487c655a>:28: UserWarning: The following kwargs were not used by contour: 'label'\n",
            "  axs[1].contourf(XEstimatedOpt,nlevels,cmap=\"RdBu_r\", label=\"Reconstructed\")\n",
            "<ipython-input-21-1d94487c655a>:30: UserWarning: The following kwargs were not used by contour: 'label'\n",
            "  axs[2].contourf(XEstError,nlevels,cmap=\"RdBu_r\", label=\"Error\")\n"
          ]
        },
        {
          "output_type": "execute_result",
          "data": {
            "text/plain": [
              "Text(0.5, 1.0, 'Error')"
            ]
          },
          "metadata": {},
          "execution_count": 21
        },
        {
          "output_type": "display_data",
          "data": {
            "text/plain": [
              "<Figure size 432x432 with 3 Axes>"
            ],
            "image/png": "[encoded data removed]"
          },
          "metadata": {
            "needs_background": "light"
          }
        }
      ]
    },
    {
      "cell_type": "markdown",
      "source": [
        "# Q2: Compressed Sensing"
      ],
      "metadata": {
        "id": "NGqhCbkAm7fO"
      }
    },
    {
      "cell_type": "code",
      "source": [
        "b = np.genfromtxt('/content/hw3Q2b.dat')\n",
        "C = np.genfromtxt('/content/hw3Q2C.dat', dtype=None, delimiter=\",\")\n",
        "\n",
        "x = la.pinv(C) @ b\n",
        "print(x)"
      ],
      "metadata": {
        "colab": {
          "base_uri": "https://localhost:8080/"
        },
        "id": "2YuogRqenrRF",
        "outputId": "2a33f0ac-a185-4e7f-c14b-0e6195f4325b"
      },
      "execution_count": null,
      "outputs": [
        {
          "output_type": "stream",
          "name": "stdout",
          "text": [
            "[-0.08152695  0.05321636 -0.0447947  -0.01765515  0.01264836  0.04479523\n",
            "  0.01336476 -0.05514886  0.01775492  0.02157766 -0.00843007  0.00726139\n",
            "  0.06836892 -0.02068811 -0.02550181 -0.02041082  0.01358207 -0.07600245\n",
            " -0.03125131  0.03164406  0.04215401 -0.02019882 -0.0040449   0.00392143\n",
            " -0.01858262  0.03883848  0.0184489  -0.02981506 -0.07277108  0.01191321\n",
            "  0.01018723 -0.03187005  0.01682108 -0.06758887  0.07139502 -0.02709005\n",
            " -0.03433671 -0.03281231  0.04032397 -0.04805167  0.04553667  0.04194345\n",
            " -0.01725231 -0.031068    0.02607901 -0.02619616  0.05428877 -0.02401123\n",
            "  0.03338464  0.00266361 -0.00319004 -0.02583664 -0.00221132 -0.02747604\n",
            "  0.08408186 -0.07083523  0.01700155 -0.0857161  -0.06483806  0.03394729\n",
            "  0.0205334  -0.02627315 -0.02993275 -0.0016009   0.00713589  0.03472257\n",
            " -0.01637809 -0.00472963 -0.0133218   0.02150945 -0.10133274 -0.0185915\n",
            "  0.01551494 -0.01056131  0.04757769  0.01254535 -0.00088493 -0.02652978\n",
            " -0.0239831  -0.03093972 -0.02945505  0.00958694  0.02766261  0.04633703\n",
            " -0.02115611 -0.04607907  0.05516118  0.01989689 -0.00740096 -0.02790357\n",
            "  0.03326077  0.04521129  0.01475337  0.00340895 -0.00687187  0.04198133\n",
            "  0.00707491  0.04087176  0.10387258  0.03084185]\n"
          ]
        }
      ]
    },
    {
      "cell_type": "code",
      "source": [
        "# Note: I think this should actually use a pivoted QR (compressed sensing) but I have run out of time\n",
        "\n",
        "Q,R,P = qr(np.transpose(C),pivoting=True)\n",
        "\n",
        "print(C)\n"
      ],
      "metadata": {
        "colab": {
          "base_uri": "https://localhost:8080/"
        },
        "id": "JKbdab0UgVMb",
        "outputId": "d3e53dd2-6c12-41c1-99db-0ac522e178d8"
      },
      "execution_count": null,
      "outputs": [
        {
          "output_type": "stream",
          "name": "stdout",
          "text": [
            "[[0 0 0 ... 1 0 0]\n",
            " [0 0 1 ... 0 0 0]\n",
            " [1 1 1 ... 1 0 0]\n",
            " ...\n",
            " [1 1 1 ... 0 0 1]\n",
            " [1 0 1 ... 1 0 0]\n",
            " [1 0 1 ... 1 0 0]]\n"
          ]
        }
      ]
    },
    {
      "cell_type": "markdown",
      "source": [
        "# Q3: SINDy"
      ],
      "metadata": {
        "id": "Tm8kg7znbzju"
      }
    },
    {
      "cell_type": "code",
      "source": [
        "# load data\n",
        "data = sp.io.loadmat('/content/DataHw3Q3.mat')\n",
        "\n",
        "t= data['t']\n",
        "x = data['x']\n",
        "x1 = np.array(x[:,0])\n",
        "x2 = np.array(x[:,1])\n",
        "\n",
        "x1_dot = np.zeros_like(x1)\n",
        "x2_dot = np.zeros_like(x2)\n",
        "\n",
        "# fill theta matrix\n",
        "\n",
        "theta = np.zeros((np.size(t), 16))\n",
        "\n",
        "x=0\n",
        "for j in range (0,4):\n",
        "  for k in range (0,4):\n",
        "    theta[:,x] = x1**j * x2**k\n",
        "    x+=1\n",
        "\n",
        "# want to solve system:\n",
        "# c = theta(x)^+ * x1_dot\n",
        "# d = theta(x)^+ * x2_dot\n",
        "# however, we don't know x1_dot or x2_dot unlike the class example\n",
        "# use left difference method to compute x1_dot, x2_dot\n",
        "\n",
        "for q in range(np.size(t)-1):\n",
        "  x1_dot[q] = (x1[q+1]-x1[q])/(t[q+1]-t[q])\n",
        "  x2_dot[q] = (x2[q+1]-x2[q])/(t[q+1]-t[q])"
      ],
      "metadata": {
        "id": "ms7HJd4Yh4il"
      },
      "execution_count": null,
      "outputs": []
    },
    {
      "cell_type": "code",
      "source": [
        "## SINDy Function Definitions (modified code snippet from class example)\n",
        "\n",
        "def sparsifyDynamics(Theta,dXdt,lamb):\n",
        "    Xi = np.linalg.lstsq(Theta,dXdt,rcond=None)[0] # Initial guess: Least-squares\n",
        "    # print(np.shape(Xi))\n",
        "    for k in range(10):\n",
        "        smallinds = np.abs(Xi) < lamb # Find small coefficients\n",
        "        Xi[smallinds] = 0                          # and threshold\n",
        "        # print(smallinds)\n",
        "        biginds = smallinds == 0\n",
        "        # print(biginds)\n",
        "        # Regress dynamics onto remaining terms to find sparse Xi\n",
        "        Xi[biginds] = np.linalg.lstsq(Theta[:,biginds],dXdt,rcond=None)[0]\n",
        "            \n",
        "    return Xi"
      ],
      "metadata": {
        "id": "7_xu3RHgb2ib"
      },
      "execution_count": null,
      "outputs": []
    },
    {
      "cell_type": "code",
      "source": [
        "n = 2\n",
        "lamb = 0.025 # 0.025 # sparsification knob lambda\n",
        "# print(np.shape(theta))\n",
        "# print(np.shape(x1_dot))\n",
        "# print(np.shape(x2_dot))\n",
        "\n",
        "C = sparsifyDynamics(theta,x1_dot,lamb)\n",
        "D = sparsifyDynamics(theta,x2_dot,lamb)\n",
        "\n",
        "print('C coeffs:\\n', C,'\\n\\nD Coeffs:\\n', D)"
      ],
      "metadata": {
        "colab": {
          "base_uri": "https://localhost:8080/"
        },
        "id": "6f3ENmBah7tP",
        "outputId": "69cd6cce-8095-40ae-963e-71c8cd0c8a9e"
      },
      "execution_count": null,
      "outputs": [
        {
          "output_type": "stream",
          "name": "stdout",
          "text": [
            "C coeffs:\n",
            " [ 0.55784962 -0.97594704 -0.0590032  -0.1279559   0.92601875 -0.0555449\n",
            "  0.34959467  0.19208439 -0.04280142  0.         -0.16058623 -0.25258823\n",
            " -0.30345877  0.04390815 -0.06253336  0.14131866] \n",
            "\n",
            "D Coeffs:\n",
            " [ 0.         -0.16144481  0.          0.          0.19989993  0.\n",
            "  0.          0.          0.          0.          0.          0.\n",
            "  0.          0.          0.          0.        ]\n"
          ]
        }
      ]
    }
  ]
}